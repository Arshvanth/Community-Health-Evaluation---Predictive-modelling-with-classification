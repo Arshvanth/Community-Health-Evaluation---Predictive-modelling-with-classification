{
  "nbformat": 4,
  "nbformat_minor": 0,
  "metadata": {
    "colab": {
      "provenance": []
    },
    "kernelspec": {
      "name": "python3",
      "display_name": "Python 3"
    },
    "language_info": {
      "name": "python"
    }
  },
  "cells": [
    {
      "cell_type": "code",
      "execution_count": 1,
      "metadata": {
        "id": "JOV32s1v-nGx"
      },
      "outputs": [],
      "source": [
        "import pandas as pd\n",
        "import numpy as np"
      ]
    },
    {
      "cell_type": "code",
      "source": [
        "from sklearn.model_selection import train_test_split\n",
        "from sklearn.preprocessing import StandardScaler, LabelEncoder\n",
        "from sklearn.linear_model import LogisticRegression\n",
        "from sklearn.tree import DecisionTreeClassifier\n",
        "from sklearn.ensemble import RandomForestClassifier\n",
        "from sklearn.svm import SVC\n",
        "from sklearn.metrics import accuracy_score, precision_score, recall_score, f1_score, classification_report"
      ],
      "metadata": {
        "id": "-ytYLSYEAJQt"
      },
      "execution_count": 3,
      "outputs": []
    },
    {
      "cell_type": "code",
      "source": [
        "dataset = pd.read_csv(\"/community_health_evaluation_dataset.csv\")"
      ],
      "metadata": {
        "id": "wNEidGG8ALh6"
      },
      "execution_count": 5,
      "outputs": []
    },
    {
      "cell_type": "code",
      "source": [
        "print(dataset.isnull().sum())"
      ],
      "metadata": {
        "colab": {
          "base_uri": "https://localhost:8080/"
        },
        "id": "ZzotT_hYAZDk",
        "outputId": "e6eb75ad-7c62-40a2-ae44-f551ee6b484a"
      },
      "execution_count": 6,
      "outputs": [
        {
          "output_type": "stream",
          "name": "stdout",
          "text": [
            "Participant ID                 0\n",
            "Age                            0\n",
            "Gender                         0\n",
            "SES                            0\n",
            "Service Type                   0\n",
            "Visit Frequency                0\n",
            "Step Frequency (steps/min)     0\n",
            "Stride Length (m)              0\n",
            "Joint Angle (°)                0\n",
            "EMG Activity                   0\n",
            "Patient Satisfaction (1-10)    0\n",
            "Quality of Life Score          0\n",
            "dtype: int64\n"
          ]
        }
      ]
    },
    {
      "cell_type": "code",
      "source": [
        "for column in dataset.select_dtypes(include=np.number).columns:\n",
        "    dataset[column].fillna(dataset[column].median(), inplace=True)\n",
        "\n",
        "for column in dataset.select_dtypes(exclude=np.number).columns:\n",
        "    dataset[column].fillna(dataset[column].mode()[0], inplace=True)"
      ],
      "metadata": {
        "colab": {
          "base_uri": "https://localhost:8080/"
        },
        "id": "uhSbvFWHA0x-",
        "outputId": "2be67613-a087-49c4-8e6a-9fcb4fd23e78"
      },
      "execution_count": 9,
      "outputs": [
        {
          "output_type": "stream",
          "name": "stderr",
          "text": [
            "<ipython-input-9-ce69cac51510>:2: FutureWarning: A value is trying to be set on a copy of a DataFrame or Series through chained assignment using an inplace method.\n",
            "The behavior will change in pandas 3.0. This inplace method will never work because the intermediate object on which we are setting values always behaves as a copy.\n",
            "\n",
            "For example, when doing 'df[col].method(value, inplace=True)', try using 'df.method({col: value}, inplace=True)' or df[col] = df[col].method(value) instead, to perform the operation inplace on the original object.\n",
            "\n",
            "\n",
            "  dataset[column].fillna(dataset[column].median(), inplace=True)\n",
            "<ipython-input-9-ce69cac51510>:5: FutureWarning: A value is trying to be set on a copy of a DataFrame or Series through chained assignment using an inplace method.\n",
            "The behavior will change in pandas 3.0. This inplace method will never work because the intermediate object on which we are setting values always behaves as a copy.\n",
            "\n",
            "For example, when doing 'df[col].method(value, inplace=True)', try using 'df.method({col: value}, inplace=True)' or df[col] = df[col].method(value) instead, to perform the operation inplace on the original object.\n",
            "\n",
            "\n",
            "  dataset[column].fillna(dataset[column].mode()[0], inplace=True)\n"
          ]
        }
      ]
    },
    {
      "cell_type": "code",
      "source": [
        "label_encoders = {}\n",
        "for column in dataset.select_dtypes(include=['object']).columns:\n",
        "    le = LabelEncoder()\n",
        "    dataset[column] = le.fit_transform(dataset[column])\n",
        "    label_encoders[column] = le"
      ],
      "metadata": {
        "id": "hqlsmAl5BHPj"
      },
      "execution_count": 10,
      "outputs": []
    },
    {
      "cell_type": "code",
      "source": [
        "X = dataset.drop(\"Visit Frequency\", axis=1)  # Replace 'target_column' with the actual column name\n",
        "y = dataset[\"Visit Frequency\"]"
      ],
      "metadata": {
        "id": "IemV_wozBKQs"
      },
      "execution_count": 13,
      "outputs": []
    },
    {
      "cell_type": "code",
      "source": [
        "X_train, X_test, y_train, y_test = train_test_split(X, y, test_size=0.2, random_state=42)"
      ],
      "metadata": {
        "id": "PFExtbekB2R9"
      },
      "execution_count": 14,
      "outputs": []
    },
    {
      "cell_type": "code",
      "source": [
        "scaler = StandardScaler()\n",
        "X_train = scaler.fit_transform(X_train)\n",
        "X_test = scaler.transform(X_test)\n"
      ],
      "metadata": {
        "id": "bWIIUuNgB5r4"
      },
      "execution_count": 15,
      "outputs": []
    },
    {
      "cell_type": "code",
      "source": [
        "models = {\n",
        "    \"Logistic Regression\": LogisticRegression(),\n",
        "    \"Decision Tree\": DecisionTreeClassifier(),\n",
        "    \"Random Forest\": RandomForestClassifier(),\n",
        "    \"SVM\": SVC()\n",
        "}"
      ],
      "metadata": {
        "id": "22oM5efrB8fJ"
      },
      "execution_count": 16,
      "outputs": []
    },
    {
      "cell_type": "code",
      "source": [
        "results = {}\n",
        "\n",
        "for model_name, model in models.items():\n",
        "    model.fit(X_train, y_train)\n",
        "    y_pred = model.predict(X_test)\n",
        "    results[model_name] = {\n",
        "        \"Accuracy\": accuracy_score(y_test, y_pred),\n",
        "        \"Precision\": precision_score(y_test, y_pred, average='weighted'),\n",
        "        \"Recall\": recall_score(y_test, y_pred, average='weighted'),\n",
        "        \"F1-Score\": f1_score(y_test, y_pred, average='weighted')\n",
        "    }"
      ],
      "metadata": {
        "id": "tKDTBMXSB-nw"
      },
      "execution_count": 17,
      "outputs": []
    },
    {
      "cell_type": "code",
      "source": [
        "for model_name, metrics in results.items():\n",
        "    print(f\"{model_name}:\")\n",
        "    for metric, score in metrics.items():\n",
        "        print(f\"  {metric}: {score:.2f}\")"
      ],
      "metadata": {
        "colab": {
          "base_uri": "https://localhost:8080/"
        },
        "id": "1R1bFY-xCD6K",
        "outputId": "4b3f2a0f-edda-4ed4-8afa-412ddd2059cb"
      },
      "execution_count": 18,
      "outputs": [
        {
          "output_type": "stream",
          "name": "stdout",
          "text": [
            "Logistic Regression:\n",
            "  Accuracy: 0.24\n",
            "  Precision: 0.24\n",
            "  Recall: 0.24\n",
            "  F1-Score: 0.23\n",
            "Decision Tree:\n",
            "  Accuracy: 0.39\n",
            "  Precision: 0.37\n",
            "  Recall: 0.39\n",
            "  F1-Score: 0.37\n",
            "Random Forest:\n",
            "  Accuracy: 0.36\n",
            "  Precision: 0.35\n",
            "  Recall: 0.36\n",
            "  F1-Score: 0.35\n",
            "SVM:\n",
            "  Accuracy: 0.31\n",
            "  Precision: 0.30\n",
            "  Recall: 0.31\n",
            "  F1-Score: 0.30\n"
          ]
        }
      ]
    },
    {
      "cell_type": "code",
      "source": [
        "print(\"Classification Report for Random Forest:\")\n",
        "print(classification_report(y_test, models[\"Random Forest\"].predict(X_test)))"
      ],
      "metadata": {
        "colab": {
          "base_uri": "https://localhost:8080/"
        },
        "id": "bDyY1W37CKke",
        "outputId": "bdfba18d-decf-41c0-bea1-fc02bfda46da"
      },
      "execution_count": 19,
      "outputs": [
        {
          "output_type": "stream",
          "name": "stdout",
          "text": [
            "Classification Report for Random Forest:\n",
            "              precision    recall  f1-score   support\n",
            "\n",
            "           0       0.29      0.22      0.25        23\n",
            "           1       0.39      0.50      0.44        24\n",
            "           2       0.36      0.35      0.36        23\n",
            "\n",
            "    accuracy                           0.36        70\n",
            "   macro avg       0.35      0.36      0.35        70\n",
            "weighted avg       0.35      0.36      0.35        70\n",
            "\n"
          ]
        }
      ]
    }
  ]
}